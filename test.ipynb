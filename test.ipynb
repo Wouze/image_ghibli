{
 "cells": [
  {
   "cell_type": "code",
   "execution_count": null,
   "metadata": {},
   "outputs": [
    {
     "name": "stdout",
     "output_type": "stream",
     "text": [
      "200\n",
      "https://replicate.delivery/xezq/9Hg9kegktHxYBaeZNEzLp9q6H7d9cMSGdqIgO1NfMbq8Um8oA/out-0.jpg\n"
     ]
    }
   ],
   "source": [
    "import base64\n",
    "import requests\n",
    "\n",
    "image_path = \"input.png\"\n",
    "\n",
    "# Read and encode the image to base64\n",
    "with open(image_path, \"rb\") as image_file:\n",
    "    encoded_image = base64.b64encode(image_file.read()).decode(\"utf-8\")\n",
    "\n",
    "# Create the JSON payload\n",
    "payload = {\n",
    "    \"image\": encoded_image\n",
    "}\n",
    "\n",
    "# Send the POST request with JSON\n",
    "response = requests.post(\n",
    "    \"https://ghiblistyleimagegenerator.vercel.app/api/generate-ghibli\",\n",
    "    json=payload\n",
    ")\n",
    "\n",
    "print(response.json()['ghibliImage'])"
   ]
  },
  {
   "cell_type": "code",
   "execution_count": null,
   "metadata": {},
   "outputs": [
    {
     "name": "stdout",
     "output_type": "stream",
     "text": [
      "400\n"
     ]
    }
   ],
   "source": [
    "print(response.status_code)\n"
   ]
  },
  {
   "cell_type": "code",
   "execution_count": null,
   "metadata": {},
   "outputs": [],
   "source": [
    "import base64\n",
    "import requests\n",
    "\n",
    "def generate_ghibli_image(image_path):\n",
    "    # Read and encode the image to base64\n",
    "    with open(image_path, \"rb\") as image_file:\n",
    "        encoded_image = base64.b64encode(image_file.read()).decode(\"utf-8\")\n",
    "\n",
    "    # Create JSON payload\n",
    "    payload = {\n",
    "        \"image\": encoded_image\n",
    "    }\n",
    "\n",
    "    # Send POST request\n",
    "    response = requests.post(\n",
    "        \"https://ghiblistyleimagegenerator.vercel.app/api/generate-ghibli\",\n",
    "        json=payload\n",
    "    )\n",
    "\n",
    "    # Handle response\n",
    "    if response.status_code == 200:\n",
    "        data = response.json()\n",
    "        if 'ghibliImage' in data:\n",
    "            return data['ghibliImage']\n",
    "        else:\n",
    "            raise ValueError(\"ghibliImage not found in the response.\")\n",
    "    else:\n",
    "        raise Exception(f\"Request failed with status code {response.status_code}: {response.text}\")\n"
   ]
  }
 ],
 "metadata": {
  "kernelspec": {
   "display_name": "Python 3",
   "language": "python",
   "name": "python3"
  },
  "language_info": {
   "codemirror_mode": {
    "name": "ipython",
    "version": 3
   },
   "file_extension": ".py",
   "mimetype": "text/x-python",
   "name": "python",
   "nbconvert_exporter": "python",
   "pygments_lexer": "ipython3",
   "version": "3.13.2"
  }
 },
 "nbformat": 4,
 "nbformat_minor": 2
}
